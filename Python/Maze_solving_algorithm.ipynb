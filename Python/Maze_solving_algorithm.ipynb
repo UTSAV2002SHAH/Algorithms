{
 "cells": [
  {
   "cell_type": "code",
   "execution_count": 5,
   "metadata": {},
   "outputs": [],
   "source": [
    "import pandas as pd # type: ignore\n",
    "import numpy as np # type: ignore"
   ]
  },
  {
   "cell_type": "code",
   "execution_count": 19,
   "metadata": {},
   "outputs": [],
   "source": [
    "# def create_random_matrix(n):\n",
    "#     # Generate an n x n matrix filled with random 0s and 1s\n",
    "#     matrix = np.random.randint(2, size=(n, n))\n",
    "#     return matrix\n",
    "\n",
    "# # Example usage\n",
    "# n = 10\n",
    "# puzzle_matrix = create_random_matrix(n)\n",
    "# solArr = np.zeros(shape=(n, n))\n",
    "# print(puzzle_matrix)\n",
    "# print(solArr)"
   ]
  },
  {
   "cell_type": "code",
   "execution_count": 27,
   "metadata": {},
   "outputs": [
    {
     "name": "stdout",
     "output_type": "stream",
     "text": [
      "[[1 1 0 0 1]\n",
      " [1 0 0 1 1]\n",
      " [1 1 1 1 1]\n",
      " [1 1 1 0 1]\n",
      " [0 0 1 0 1]]\n",
      "[[1. 0. 0. 0. 0.]\n",
      " [1. 0. 0. 0. 0.]\n",
      " [1. 1. 1. 1. 1.]\n",
      " [0. 0. 0. 0. 1.]\n",
      " [0. 0. 0. 0. 1.]]\n"
     ]
    }
   ],
   "source": [
    "def isSafe(arr, x, y, n):\n",
    "    if x<n and y<n and arr[x][y]==1:\n",
    "        return True\n",
    "    return False\n",
    "\n",
    "def ratinMaze(arr, x, y, n, solArr):\n",
    "    \n",
    "    if x==n-1 and y==n-1:\n",
    "        solArr[x][y] =1\n",
    "        return True\n",
    "\n",
    "    if isSafe(arr, x, y, n):\n",
    "        solArr[x][y]=1\n",
    "        if ratinMaze(arr, x+1, y, n, solArr):\n",
    "            return True\n",
    "        \n",
    "        if ratinMaze(arr, x, y+1, n, solArr):\n",
    "            return True\n",
    "        solArr[x][y] = 0\n",
    "        return False\n",
    "    return False\n",
    "\n",
    "# puzzel_matrix = [[1, 0, 1, 0, 1],\n",
    "#                  [1, 1 ,1, 1, 1],\n",
    "#                  [0, 1, 0, 1, 0],                               ######### Example Matrix #########\n",
    "#                  [1, 0, 0, 1, 1],\n",
    "#                  [1, 1, 1, 0, 1]]\n",
    "\n",
    "n = 5                                                             # shape of input square matrix\n",
    "def create_puzzel_matrix(n, ratio):\n",
    "    total_elements = n * n\n",
    "    num_ones = int(total_elements * ratio)\n",
    "    num_zeros = total_elements - num_ones\n",
    "    arr = np.array([1] * num_ones + [0] * num_zeros)\n",
    "    np.random.shuffle(arr)\n",
    "    matrix = arr.reshape((n, n))\n",
    "    return matrix\n",
    "\n",
    "solArr = np.zeros(shape=(n,n))\n",
    "\n",
    "puzzel_matrix = create_puzzel_matrix(n, ratio=0.7)                # generatingg random puzzeles\n",
    "print(puzzel_matrix)\n",
    "\n",
    "ratinMaze(puzzel_matrix, 0, 0, n, solArr)\n",
    "print(solArr)"
   ]
  }
 ],
 "metadata": {
  "kernelspec": {
   "display_name": "Python 3",
   "language": "python",
   "name": "python3"
  },
  "language_info": {
   "codemirror_mode": {
    "name": "ipython",
    "version": 3
   },
   "file_extension": ".py",
   "mimetype": "text/x-python",
   "name": "python",
   "nbconvert_exporter": "python",
   "pygments_lexer": "ipython3",
   "version": "3.12.4"
  }
 },
 "nbformat": 4,
 "nbformat_minor": 2
}
