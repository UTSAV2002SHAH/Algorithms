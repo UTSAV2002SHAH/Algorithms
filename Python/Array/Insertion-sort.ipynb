{
 "cells": [
  {
   "cell_type": "markdown",
   "metadata": {},
   "source": [
    "# Insertion Sort\n",
    "\n",
    "The time complexity of insertion sort: Worst Case: O (N2) Best case: O(N)\n",
    "\n",
    "The worst-case time complexity of Insertion Sort occurs when the input array is in reverse sorted order. "
   ]
  },
  {
   "cell_type": "code",
   "execution_count": 1,
   "metadata": {},
   "outputs": [],
   "source": [
    "import numpy as np"
   ]
  },
  {
   "cell_type": "code",
   "execution_count": 11,
   "metadata": {},
   "outputs": [
    {
     "name": "stdout",
     "output_type": "stream",
     "text": [
      "[ 685  560  630  193  836  764  708  360   10  724  278  755  805  600\n",
      "   71  473  601  397  315  706  487  552   88  175  601  850  678  538\n",
      "  846   73  778  917  116  977  756  710  848  432  449  851  100  985\n",
      "  178  756  798  660  148  911  424  289  962  266  698  640  545  544\n",
      "  715  245  152  676  511  460  883  184   29  803  129  129  933   54\n",
      "  902  551  489  757  274  336  389  618   43  443  544  889  258  322\n",
      " 1000  938   58  292  871  120  780  431   83   92  897  399  612  566\n",
      "  909  634]\n"
     ]
    }
   ],
   "source": [
    "np.random.seed(0)\n",
    "arr = np.random.randint(1, 1001, size=100)\n",
    "print(arr)"
   ]
  },
  {
   "cell_type": "code",
   "execution_count": 12,
   "metadata": {},
   "outputs": [
    {
     "name": "stdout",
     "output_type": "stream",
     "text": [
      "[  10   29   43   54   58   71   73   83   88   92  100  116  120  129\n",
      "  129  148  152  175  178  184  193  245  258  266  274  278  289  292\n",
      "  315  322  336  360  389  397  399  424  431  432  443  449  460  473\n",
      "  487  489  511  538  544  544  545  551  552  560  566  600  601  601\n",
      "  612  618  630  634  640  660  676  678  685  698  706  708  710  715\n",
      "  724  755  756  756  757  764  778  780  798  803  805  836  846  848\n",
      "  850  851  871  883  889  897  902  909  911  917  933  938  962  977\n",
      "  985 1000]\n"
     ]
    }
   ],
   "source": [
    "def insertionSort(arr):\n",
    "    for i in range(1, len(arr)):\n",
    "        key = arr[i]\n",
    "        j = i-1\n",
    "        while j >= 0 and key < arr[j] :\n",
    "                arr[j + 1] = arr[j]\n",
    "                j -= 1\n",
    "        arr[j + 1] = key\n",
    "\n",
    "insertionSort(arr)\n",
    "print(arr)"
   ]
  }
 ],
 "metadata": {
  "kernelspec": {
   "display_name": "Python 3",
   "language": "python",
   "name": "python3"
  },
  "language_info": {
   "codemirror_mode": {
    "name": "ipython",
    "version": 3
   },
   "file_extension": ".py",
   "mimetype": "text/x-python",
   "name": "python",
   "nbconvert_exporter": "python",
   "pygments_lexer": "ipython3",
   "version": "3.12.4"
  }
 },
 "nbformat": 4,
 "nbformat_minor": 2
}
